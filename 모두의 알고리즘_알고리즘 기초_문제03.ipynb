{
 "cells": [
  {
   "cell_type": "markdown",
   "metadata": {},
   "source": [
    "list = ['Tom', 'Jerry', 'Mike', 'Tom']\n",
    "중에서 동명이인을 찾는 알고리즘 구현\n",
    "1. 첫 번째 Tom을 뒤에 있는 Jerry, Mike, Tom과 차례로 비교합니다.\n",
    "2. 첫 번째 Tom과 마지막 Tom이 같으므로 동명이인입니다.\n",
    "3. 두 번째 Jerry를 뒤에 있는 Mike, Tom과 비교합니다(앞에있는  Tom과는 이미 비교했음)\n",
    "4. 세 번째 Mike를 뒤에 있는 Tom과 비교합니다.\n",
    "5. 마지막 Tom은 비교하지 않아도 됩니다(이미 앞에서 비교했음).\n",
    "6. 같은 이름은 Tom 하나뿐입니다.\n",
    "\n",
    "알고리즘에서 주의할 점\n",
    "첫째, 이번에 비교할 이름을 뽑은 다음에는 뽑은 이름보다 순서상 뒤에있는 이름하고만 비교하면 됩니다. 자기 자신과 비교하는 것은 무의미하고 앞에 있는 이름과는 이미 비교가 끝났기 때문입니다.\n",
    "둘째, 리스트의 마지막 이름을 기준으로 비교하지 않아도 됩니다. 자신의 뒤에는 비교할 이름이 없고, 앞과는 이미 비교가 끝났기 때문입니다.\n",
    "셋째, 같은 이름을 찾으면 결과 집합에 그 이름을 추가합니다."
   ]
  },
  {
   "cell_type": "code",
   "execution_count": 1,
   "metadata": {},
   "outputs": [],
   "source": [
    "def find_same_name(a):\n",
    "    n = len(a)\n",
    "    result = set()\n",
    "    for i in range(0, n-1):\n",
    "        for j in range(i+1, n): # 비교 기준으로 정해진 i번째 위치에 1을 더한 위치의 값부터 끝까지 비교하는 것을 의미한다\n",
    "            if a[i] == a[j]:\n",
    "                result.add(a[i])\n",
    "    return result"
   ]
  },
  {
   "cell_type": "markdown",
   "metadata": {},
   "source": [
    "1. 첫 번째 Tom을 뒤에 있는 Jerry, Mike, Tom과 차례로 비교합니다. i = 0, a[i] = 'Tom' / j = 1, 2, 3\n",
    "2. 첫 번째 Tom과 마지막 Tom이 같으므로 동명이인입니다.\n",
    "3. 두 번째 Jerry를 뒤에 있는 Mike, Tom과 비교합니다(앞에있는  Tom과는 이미 비교했음) i = 1, a[i] = 'Jerry' / j = 2, 3\n",
    "4. 세 번째 Mike를 뒤에 있는 Tom과 비교합니다. i = 2, a[i] = 'Mike' / j = 3\n",
    "5. 마지막 Tom은 비교하지 않아도 됩니다(이미 앞에서 비교했음).  i = 3, a[i] = 'Tom'\n",
    "6. 같은 이름은 Tom 하나뿐입니다."
   ]
  },
  {
   "cell_type": "code",
   "execution_count": 3,
   "metadata": {},
   "outputs": [
    {
     "name": "stdout",
     "output_type": "stream",
     "text": [
      "{'Tom'}\n"
     ]
    }
   ],
   "source": [
    "name = ['Tom', 'Jerry', 'Mike', 'Tom']\n",
    "print(find_same_name(name))"
   ]
  },
  {
   "cell_type": "code",
   "execution_count": 4,
   "metadata": {},
   "outputs": [
    {
     "name": "stdout",
     "output_type": "stream",
     "text": [
      "{'Tom', 'Mike'}\n"
     ]
    }
   ],
   "source": [
    "name2 = ['Tom', 'Jerry','Mike' ,'Mike', 'Tom']\n",
    "print(find_same_name(name2))"
   ]
  },
  {
   "cell_type": "code",
   "execution_count": 17,
   "metadata": {},
   "outputs": [],
   "source": [
    "# 연습문제 3-1\n",
    "# n명 중 두 명을 뽑아 짝을 짓는다고 할 때 짝을 지을 수 있는 모든 조합을 출력하는 알고리즘을 만들어 보세요.\n",
    "# 예를 들어 입력이 리스트 ['Tom', 'Jerry', 'Mike']라면 다음과 같은 세 가지 경우를 출력합니다.\n",
    "\n",
    "def print_pairs(a):\n",
    "    n = len(a)\n",
    "    for i in range(0, n-1):\n",
    "        for j in range(i+1, n):\n",
    "            print(a[i], \"-\", a[j])"
   ]
  },
  {
   "cell_type": "code",
   "execution_count": 18,
   "metadata": {},
   "outputs": [
    {
     "name": "stdout",
     "output_type": "stream",
     "text": [
      "Tom - Jerry\n",
      "Tom - Mike\n",
      "Jerry - Mike\n",
      "\n",
      "Tom - Jerry\n",
      "Tom - Mike\n",
      "Tom - John\n",
      "Jerry - Mike\n",
      "Jerry - John\n",
      "Mike - John\n"
     ]
    }
   ],
   "source": [
    "name = [\"Tom\", \"Jerry\", \"Mike\"]\n",
    "print_pairs(name)\n",
    "print()\n",
    "name2 = [\"Tom\", \"Jerry\", \"Mike\", \"John\"]\n",
    "print_pairs(name2)"
   ]
  }
 ],
 "metadata": {
  "kernelspec": {
   "display_name": "Python 3",
   "language": "python",
   "name": "python3"
  },
  "language_info": {
   "codemirror_mode": {
    "name": "ipython",
    "version": 3
   },
   "file_extension": ".py",
   "mimetype": "text/x-python",
   "name": "python",
   "nbconvert_exporter": "python",
   "pygments_lexer": "ipython3",
   "version": "3.6.5"
  }
 },
 "nbformat": 4,
 "nbformat_minor": 2
}
