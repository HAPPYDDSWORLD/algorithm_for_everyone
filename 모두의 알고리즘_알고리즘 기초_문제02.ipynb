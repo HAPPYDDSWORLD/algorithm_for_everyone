{
 "cells": [
  {
   "cell_type": "code",
   "execution_count": null,
   "metadata": {},
   "outputs": [],
   "source": [
    "# 최댓값을 구하는 알고리즘\n",
    "\n",
    "def find_max(a):\n",
    "    n = len(a)\n",
    "    max_v = a[0]\n",
    "    for i in range(1,n):\n",
    "        if a[i] > max_v:\n",
    "            max_v = a[i]\n",
    "    return max_v\n"
   ]
  },
  {
   "cell_type": "code",
   "execution_count": null,
   "metadata": {},
   "outputs": [],
   "source": [
    "# 최댓값의 위치를 알아내는 알고리즘\n",
    "def find_max_idx(a):\n",
    "    n = len(a)\n",
    "    max_idx = 0\n",
    "    for i in range(1,n):\n",
    "        if a[i] > a[max_idx]:\n",
    "            max_idx = i\n",
    "    return max_idx"
   ]
  },
  {
   "cell_type": "code",
   "execution_count": 2,
   "metadata": {},
   "outputs": [
    {
     "data": {
      "text/plain": [
       "3"
      ]
     },
     "execution_count": 2,
     "metadata": {},
     "output_type": "execute_result"
    }
   ],
   "source": [
    "# 최솟값을 구하는 알고리즘\n",
    "\n",
    "def fin_min(a):\n",
    "    n = len(a)\n",
    "    min_v = a[0]\n",
    "    for i in range(1,n):\n",
    "        if a[i] < min_v:\n",
    "            min_v = a[i]\n",
    "    return min_v\n",
    "\n",
    "a = [3, 4, 8, 9 ,10, 30, 100, 4200, 130, 3]\n",
    "\n",
    "fin_min(a)"
   ]
  },
  {
   "cell_type": "code",
   "execution_count": 9,
   "metadata": {},
   "outputs": [],
   "source": [
    "# 최솟값의 위치를 알아내는 알고리즘\n",
    "def find_min_idx(a):\n",
    "    n = len(a)\n",
    "    max_idx = 0\n",
    "    for i in range(1,n):\n",
    "        if a[i] > a[max_idx]:\n",
    "            max_idx = i\n",
    "    return max_idx"
   ]
  },
  {
   "cell_type": "code",
   "execution_count": 10,
   "metadata": {},
   "outputs": [
    {
     "data": {
      "text/plain": [
       "7"
      ]
     },
     "execution_count": 10,
     "metadata": {},
     "output_type": "execute_result"
    }
   ],
   "source": [
    "find_min_idx(a)"
   ]
  }
 ],
 "metadata": {
  "kernelspec": {
   "display_name": "Python 3",
   "language": "python",
   "name": "python3"
  },
  "language_info": {
   "codemirror_mode": {
    "name": "ipython",
    "version": 3
   },
   "file_extension": ".py",
   "mimetype": "text/x-python",
   "name": "python",
   "nbconvert_exporter": "python",
   "pygments_lexer": "ipython3",
   "version": "3.6.5"
  }
 },
 "nbformat": 4,
 "nbformat_minor": 2
}
